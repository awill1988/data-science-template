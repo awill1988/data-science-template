{
 "cells": [
  {
   "cell_type": "markdown",
   "id": "084b1b40",
   "metadata": {},
   "source": [
    "# Echo\n",
    "\n",
    "The following command will import the `echo` function provided by our generic library sdk"
   ]
  },
  {
   "cell_type": "code",
   "execution_count": 5,
   "id": "cda880b6",
   "metadata": {},
   "outputs": [],
   "source": [
    "from lib.echo import echo"
   ]
  },
  {
   "cell_type": "markdown",
   "id": "d6cd6960",
   "metadata": {},
   "source": [
    "The following line will execute the `echo` function which will for each argument print the value and insert a line break."
   ]
  },
  {
   "cell_type": "code",
   "execution_count": 6,
   "id": "a79b967a",
   "metadata": {},
   "outputs": [
    {
     "name": "stdout",
     "output_type": "stream",
     "text": [
      "test\n",
      "me\n"
     ]
    }
   ],
   "source": [
    "echo(\"test\", \"me\")"
   ]
  },
  {
   "cell_type": "code",
   "execution_count": null,
   "id": "b48b51fc",
   "metadata": {},
   "outputs": [],
   "source": []
  }
 ],
 "metadata": {
  "kernelspec": {
   "display_name": "Python 3 (ipykernel)",
   "language": "python",
   "name": "python3"
  },
  "language_info": {
   "codemirror_mode": {
    "name": "ipython",
    "version": 3
   },
   "file_extension": ".py",
   "mimetype": "text/x-python",
   "name": "python",
   "nbconvert_exporter": "python",
   "pygments_lexer": "ipython3",
   "version": "3.10.5"
  }
 },
 "nbformat": 4,
 "nbformat_minor": 5
}
